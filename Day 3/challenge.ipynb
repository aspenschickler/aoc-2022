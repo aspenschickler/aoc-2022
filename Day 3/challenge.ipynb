{
 "cells": [
  {
   "cell_type": "markdown",
   "metadata": {},
   "source": [
    "# Setup"
   ]
  },
  {
   "cell_type": "code",
   "execution_count": 7,
   "metadata": {
    "dotnet_interactive": {
     "language": "csharp"
    },
    "vscode": {
     "languageId": "dotnet-interactive.csharp"
    }
   },
   "outputs": [],
   "source": [
    "using System;\n",
    "using System.IO;\n",
    "\n",
    "string[] lines = File.ReadAllLines(@\"input.txt\");"
   ]
  },
  {
   "cell_type": "markdown",
   "metadata": {},
   "source": [
    "# Part 1"
   ]
  },
  {
   "cell_type": "code",
   "execution_count": 8,
   "metadata": {
    "dotnet_interactive": {
     "language": "csharp"
    },
    "vscode": {
     "languageId": "dotnet-interactive.csharp"
    }
   },
   "outputs": [
    {
     "name": "stdout",
     "output_type": "stream",
     "text": [
      "7674\r\n"
     ]
    }
   ],
   "source": [
    "int CalculatePriorityForItem(char c)\n",
    "{\n",
    "    return c - (char.IsUpper(c) ? 38 : 96);\n",
    "}\n",
    "\n",
    "int sum = 0;\n",
    "\n",
    "foreach (string line in lines)\n",
    "{\n",
    "    var shared = line\n",
    "        .Substring(0, line.Length / 2)\n",
    "        .ToList()\n",
    "        .Intersect(line\n",
    "            .Substring(line.Length / 2, line.Length / 2)\n",
    "            .ToList())\n",
    "        .First();\n",
    "\n",
    "    sum += CalculatePriorityForItem(shared);\n",
    "}\n",
    "\n",
    "Console.WriteLine(sum);"
   ]
  },
  {
   "cell_type": "markdown",
   "metadata": {},
   "source": [
    "# Part 2"
   ]
  },
  {
   "cell_type": "code",
   "execution_count": 9,
   "metadata": {
    "dotnet_interactive": {
     "language": "csharp"
    },
    "vscode": {
     "languageId": "dotnet-interactive.csharp"
    }
   },
   "outputs": [
    {
     "name": "stdout",
     "output_type": "stream",
     "text": [
      "2805\r\n"
     ]
    }
   ],
   "source": [
    "sum = 0;\n",
    "\n",
    "for (int i = 0; i < lines.Length; i += 3)\n",
    "{\n",
    "    var shared = lines[i]\n",
    "        .Intersect(lines[i + 1])\n",
    "        .Intersect(lines[i + 2])\n",
    "        .First();\n",
    "        \n",
    "    sum += CalculatePriorityForItem(shared);\n",
    "}\n",
    "\n",
    "Console.WriteLine(sum);"
   ]
  }
 ],
 "metadata": {
  "kernelspec": {
   "display_name": ".NET (C#)",
   "language": "C#",
   "name": ".net-csharp"
  },
  "language_info": {
   "name": "C#"
  }
 },
 "nbformat": 4,
 "nbformat_minor": 2
}
