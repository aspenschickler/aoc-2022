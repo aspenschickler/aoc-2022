{
 "cells": [
  {
   "cell_type": "markdown",
   "metadata": {},
   "source": [
    "# Setup"
   ]
  },
  {
   "cell_type": "code",
   "execution_count": 4,
   "metadata": {
    "dotnet_interactive": {
     "language": "csharp"
    },
    "vscode": {
     "languageId": "dotnet-interactive.csharp"
    }
   },
   "outputs": [],
   "source": [
    "using System;\n",
    "using System.IO;\n",
    "\n",
    "string[] lines = File.ReadAllLines(@\"input.txt\");"
   ]
  },
  {
   "cell_type": "markdown",
   "metadata": {},
   "source": [
    "# Part 1"
   ]
  },
  {
   "cell_type": "code",
   "execution_count": 5,
   "metadata": {
    "dotnet_interactive": {
     "language": "csharp"
    },
    "vscode": {
     "languageId": "dotnet-interactive.csharp"
    }
   },
   "outputs": [
    {
     "name": "stdout",
     "output_type": "stream",
     "text": [
      "651\r\n"
     ]
    }
   ],
   "source": [
    "bool FullyContains(int l0, int r0, int l1, int r1)\n",
    "{\n",
    "    return (l0 <= l1 && r0 >= r1) ||\n",
    "           (l1 <= l0 && r1 >= r0);\n",
    "}\n",
    "\n",
    "int sum = 0;\n",
    "\n",
    "foreach (string line in lines)\n",
    "{\n",
    "    char[] delims = {'-', ','};\n",
    "    var vals = Array.ConvertAll<string, int>(line.Split(delims), p => int.Parse(p));\n",
    "\n",
    "    sum += FullyContains(vals[0], vals[1], vals[2], vals[3]) ? 1 : 0;\n",
    "}\n",
    "\n",
    "Console.WriteLine(sum);"
   ]
  },
  {
   "cell_type": "markdown",
   "metadata": {},
   "source": [
    "# Part 2"
   ]
  },
  {
   "cell_type": "code",
   "execution_count": 6,
   "metadata": {
    "dotnet_interactive": {
     "language": "csharp"
    },
    "vscode": {
     "languageId": "dotnet-interactive.csharp"
    }
   },
   "outputs": [
    {
     "name": "stdout",
     "output_type": "stream",
     "text": [
      "956\r\n"
     ]
    }
   ],
   "source": [
    "bool PartiallyOverlaps(int l0, int r0, int l1, int r1)\n",
    "{\n",
    "    return (l0 <= l1 && r0 >= r1) ||\n",
    "           (l0 <= l1 && r0 >= l1) ||\n",
    "           (l0 <= r1 && r0 >= r1) ||\n",
    "\n",
    "           (l1 <= l0 && r1 >= r0) ||\n",
    "           (l1 <= l0 && r1 >= l0) ||\n",
    "           (l1 <= r0 && r1 >= r0);\n",
    "}\n",
    "\n",
    "int sum = 0;\n",
    "\n",
    "foreach (string line in lines)\n",
    "{\n",
    "    char[] delims = {'-', ','};\n",
    "    var vals = Array.ConvertAll<string, int>(line.Split(delims), p => int.Parse(p));\n",
    "\n",
    "    sum += PartiallyOverlaps(vals[0], vals[1], vals[2], vals[3]) ? 1 : 0;\n",
    "}\n",
    "\n",
    "Console.WriteLine(sum);"
   ]
  }
 ],
 "metadata": {
  "kernelspec": {
   "display_name": ".NET (C#)",
   "language": "C#",
   "name": ".net-csharp"
  },
  "language_info": {
   "name": "C#"
  }
 },
 "nbformat": 4,
 "nbformat_minor": 2
}
