{
 "cells": [
  {
   "cell_type": "markdown",
   "metadata": {},
   "source": [
    "# Setup"
   ]
  },
  {
   "cell_type": "code",
   "execution_count": 43,
   "metadata": {
    "dotnet_interactive": {
     "language": "csharp"
    },
    "vscode": {
     "languageId": "dotnet-interactive.csharp"
    }
   },
   "outputs": [],
   "source": [
    "using System;\n",
    "using System.IO;\n",
    "using System.Collections;\n",
    "\n",
    "string[] lines = File.ReadAllLines(@\"input.txt\");"
   ]
  },
  {
   "cell_type": "markdown",
   "metadata": {},
   "source": [
    "# Part 1"
   ]
  },
  {
   "cell_type": "code",
   "execution_count": 44,
   "metadata": {
    "dotnet_interactive": {
     "language": "csharp"
    },
    "vscode": {
     "languageId": "dotnet-interactive.csharp"
    }
   },
   "outputs": [
    {
     "name": "stdout",
     "output_type": "stream",
     "text": [
      "75501\r\n"
     ]
    }
   ],
   "source": [
    "List<int> elves = new List<int>() { 0 };\n",
    "\n",
    "foreach (string line in lines)\n",
    "{\n",
    "\t// same elf\n",
    "\tif (!line.Equals(\"\"))\n",
    "\t{\n",
    "\t\telves[elves.Count() - 1] += int.Parse(line);\n",
    "\t}\n",
    "\t// new elf\n",
    "\telse\n",
    "\t{\n",
    "\t\telves.Add(0);\n",
    "\t}\n",
    "}\n",
    "\n",
    "Console.WriteLine(elves.Max());"
   ]
  },
  {
   "cell_type": "markdown",
   "metadata": {},
   "source": [
    "# Part 2"
   ]
  },
  {
   "cell_type": "code",
   "execution_count": 45,
   "metadata": {
    "dotnet_interactive": {
     "language": "csharp"
    },
    "vscode": {
     "languageId": "dotnet-interactive.csharp"
    }
   },
   "outputs": [
    {
     "name": "stdout",
     "output_type": "stream",
     "text": [
      "215594\r\n"
     ]
    }
   ],
   "source": [
    "elves.Sort();\n",
    "\n",
    "Console.WriteLine(elves[elves.Count() - 1] + \n",
    "\t\t\t\t  elves[elves.Count() - 2] +\n",
    "\t\t\t\t  elves[elves.Count() - 3]);"
   ]
  }
 ],
 "metadata": {
  "kernelspec": {
   "display_name": ".NET (C#)",
   "language": "C#",
   "name": ".net-csharp"
  },
  "language_info": {
   "name": "C#"
  }
 },
 "nbformat": 4,
 "nbformat_minor": 2
}
