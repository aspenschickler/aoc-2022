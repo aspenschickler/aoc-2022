{
 "cells": [
  {
   "cell_type": "markdown",
   "metadata": {},
   "source": [
    "# Setup"
   ]
  },
  {
   "cell_type": "code",
   "execution_count": 56,
   "metadata": {
    "dotnet_interactive": {
     "language": "csharp"
    },
    "vscode": {
     "languageId": "dotnet-interactive.csharp"
    }
   },
   "outputs": [],
   "source": [
    "using System;\n",
    "using System.IO;\n",
    "using System.Collections;\n",
    "\n",
    "string[] lines = File.ReadAllLines(@\"input.txt\");"
   ]
  },
  {
   "cell_type": "markdown",
   "metadata": {},
   "source": [
    "# Part 1"
   ]
  },
  {
   "cell_type": "code",
   "execution_count": 57,
   "metadata": {
    "dotnet_interactive": {
     "language": "csharp"
    },
    "vscode": {
     "languageId": "dotnet-interactive.csharp"
    }
   },
   "outputs": [
    {
     "name": "stdout",
     "output_type": "stream",
     "text": [
      "75501\r\n"
     ]
    }
   ],
   "source": [
    "List<int> elves = new List<int>() { 0 };\n",
    "\n",
    "foreach (string line in lines)\n",
    "{\n",
    "    if (!line.Equals(\"\")) // same elf\n",
    "    {\n",
    "        elves[elves.Count() - 1] += int.Parse(line);\n",
    "    }\n",
    "    else // new elf\n",
    "    {\n",
    "        elves.Add(0);\n",
    "    }\n",
    "}\n",
    "\n",
    "Console.WriteLine(elves.Max());"
   ]
  },
  {
   "cell_type": "markdown",
   "metadata": {},
   "source": [
    "# Part 2"
   ]
  },
  {
   "cell_type": "code",
   "execution_count": 58,
   "metadata": {
    "dotnet_interactive": {
     "language": "csharp"
    },
    "vscode": {
     "languageId": "dotnet-interactive.csharp"
    }
   },
   "outputs": [
    {
     "name": "stdout",
     "output_type": "stream",
     "text": [
      "215594\r\n"
     ]
    }
   ],
   "source": [
    "elves.Sort();\n",
    "elves.Reverse();\n",
    "\n",
    "Console.WriteLine(elves.Take(3).Sum());"
   ]
  }
 ],
 "metadata": {
  "kernelspec": {
   "display_name": ".NET (C#)",
   "language": "C#",
   "name": ".net-csharp"
  },
  "language_info": {
   "name": "C#"
  }
 },
 "nbformat": 4,
 "nbformat_minor": 2
}
