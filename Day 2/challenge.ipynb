{
 "cells": [
  {
   "cell_type": "markdown",
   "metadata": {},
   "source": [
    "# Setup"
   ]
  },
  {
   "cell_type": "code",
   "execution_count": 28,
   "metadata": {
    "dotnet_interactive": {
     "language": "csharp"
    },
    "vscode": {
     "languageId": "dotnet-interactive.csharp"
    }
   },
   "outputs": [],
   "source": [
    "using System;\n",
    "using System.IO;\n",
    "using System.Collections;\n",
    "\n",
    "string[] lines = File.ReadAllLines(@\"input.txt\");"
   ]
  },
  {
   "cell_type": "markdown",
   "metadata": {},
   "source": [
    "# Part 1"
   ]
  },
  {
   "cell_type": "code",
   "execution_count": 29,
   "metadata": {
    "dotnet_interactive": {
     "language": "csharp"
    },
    "vscode": {
     "languageId": "dotnet-interactive.csharp"
    }
   },
   "outputs": [
    {
     "name": "stdout",
     "output_type": "stream",
     "text": [
      "13682\r\n"
     ]
    }
   ],
   "source": [
    "enum Choice\n",
    "{\n",
    "    Rock = 1,\n",
    "    Paper = 2,\n",
    "    Scissors = 3\n",
    "}\n",
    "\n",
    "Choice ConvertInputToChoice(char c)\n",
    "{\n",
    "    switch (c)\n",
    "    {\n",
    "        case 'A':\n",
    "        case 'X':\n",
    "            return Choice.Rock;\n",
    "        case 'B':\n",
    "        case 'Y':\n",
    "            return Choice.Paper;\n",
    "        default:\n",
    "            return Choice.Scissors;\n",
    "    }\n",
    "}\n",
    "\n",
    "int CalculateScoreFromMatchup(Choice player, Choice opponent)\n",
    "{\n",
    "    if (player == opponent)\n",
    "    {\n",
    "        return 3;\n",
    "    }\n",
    "    else if (player - opponent == 1 || player - opponent == -2)\n",
    "    {\n",
    "        return 6;\n",
    "    }\n",
    "\n",
    "    return 0;\n",
    "}\n",
    "\n",
    "int total = 0;\n",
    "\n",
    "foreach (string line in lines)\n",
    "{\n",
    "    Choice opponent = ConvertInputToChoice(line[0]);\n",
    "    Choice player = ConvertInputToChoice(line[2]);\n",
    "\n",
    "    total += (int) player + CalculateScoreFromMatchup(player, opponent);\n",
    "}\n",
    "\n",
    "Console.WriteLine(total);"
   ]
  },
  {
   "cell_type": "markdown",
   "metadata": {},
   "source": [
    "# Part 2"
   ]
  },
  {
   "cell_type": "code",
   "execution_count": 30,
   "metadata": {
    "dotnet_interactive": {
     "language": "csharp"
    },
    "vscode": {
     "languageId": "dotnet-interactive.csharp"
    }
   },
   "outputs": [
    {
     "name": "stdout",
     "output_type": "stream",
     "text": [
      "12881\r\n"
     ]
    }
   ],
   "source": [
    "enum Outcome\n",
    "{\n",
    "    Loss = 0,\n",
    "    Draw = 3,\n",
    "    Win = 6\n",
    "}\n",
    "\n",
    "Outcome ConvertInputToOutcome(char c)\n",
    "{\n",
    "    switch (c)\n",
    "    {\n",
    "        case 'X':\n",
    "            return Outcome.Loss;\n",
    "        case 'Y':\n",
    "            return Outcome.Draw;\n",
    "        default:\n",
    "            return Outcome.Win;\n",
    "    }\n",
    "}\n",
    "\n",
    "Choice CalculateChoiceFromOpponentAndOutcome(Choice opponent, Outcome outcome)\n",
    "{\n",
    "    Choice[] choices = {Choice.Rock, Choice.Paper, Choice.Scissors};\n",
    "\n",
    "    switch (outcome)\n",
    "    {\n",
    "        case Outcome.Win:\n",
    "            return choices[(3 + Array.FindIndex<Choice>(choices, 0, choices.Length, p => p.Equals(opponent)) + 1) % 3];\n",
    "        case Outcome.Loss:\n",
    "            return choices[(3 + Array.FindIndex<Choice>(choices, 0, choices.Length, p => p.Equals(opponent)) - 1) % 3];\n",
    "        default:\n",
    "            return opponent;\t\t\n",
    "    }\n",
    "}\n",
    "\n",
    "total = 0;\n",
    "\n",
    "foreach (string line in lines)\n",
    "{\n",
    "    Choice opponent = ConvertInputToChoice(line[0]);\n",
    "    Outcome outcome = ConvertInputToOutcome(line[2]);\n",
    "\n",
    "    total += (int) outcome + (int) CalculateChoiceFromOpponentAndOutcome(opponent, outcome);\n",
    "}\n",
    "\n",
    "Console.WriteLine(total);"
   ]
  },
  {
   "cell_type": "code",
   "execution_count": 31,
   "metadata": {
    "dotnet_interactive": {
     "language": "csharp"
    },
    "vscode": {
     "languageId": "dotnet-interactive.csharp"
    }
   },
   "outputs": [],
   "source": []
  }
 ],
 "metadata": {
  "kernelspec": {
   "display_name": ".NET (C#)",
   "language": "C#",
   "name": ".net-csharp"
  },
  "language_info": {
   "name": "C#"
  }
 },
 "nbformat": 4,
 "nbformat_minor": 2
}
